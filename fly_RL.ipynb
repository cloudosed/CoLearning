{
 "cells": [
  {
   "cell_type": "code",
   "execution_count": 1,
   "id": "3d3f5dda-c5c8-40f3-97fa-7196a9d6a0ad",
   "metadata": {},
   "outputs": [],
   "source": [
    "import numpy as np\n",
    "\n",
    "import matplotlib.pyplot as plt\n",
    "import PIL.ImageDraw\n",
    "\n",
    "from dm_control import mujoco\n",
    "from dm_control import mjcf\n",
    "from dm_control.mujoco.wrapper.mjbindings import enums\n",
    "\n",
    "import os\n",
    "import sys\n",
    "module_path = os.path.abspath(os.path.join('./flybody')) # or the path to your source code\n",
    "# print(module_path)\n",
    "sys.path.insert(0, module_path)\n",
    "\n",
    "from flybody.fly_envs import walk_on_ball, flight_imitation_easy\n",
    "from flybody.utils import display_video\n",
    "from flybody.tasks.task_utils import retract_wings\n",
    "\n",
    "from collections import deque\n",
    "\n",
    "# PyTorch\n",
    "import torch\n",
    "import torch.nn as nn\n",
    "import torch.nn.functional as F\n",
    "import torch.optim as optim"
   ]
  },
  {
   "cell_type": "code",
   "execution_count": 2,
   "id": "5ab3379c-c821-49e7-801f-291e4132db50",
   "metadata": {},
   "outputs": [],
   "source": [
    "# Create RL environment.\n",
    "env = flight_imitation_easy()"
   ]
  },
  {
   "cell_type": "code",
   "execution_count": 3,
   "id": "dc5d7840-fcfd-4380-9b0c-20350ccb90b0",
   "metadata": {},
   "outputs": [
    {
     "data": {
      "text/plain": [
       "OrderedDict([('walker/accelerometer',\n",
       "              Array(shape=(3,), dtype=dtype('float64'), name='walker/accelerometer')),\n",
       "             ('walker/actuator_activation',\n",
       "              Array(shape=(0,), dtype=dtype('float64'), name='walker/actuator_activation')),\n",
       "             ('walker/gyro',\n",
       "              Array(shape=(3,), dtype=dtype('float64'), name='walker/gyro')),\n",
       "             ('walker/joints_pos',\n",
       "              Array(shape=(25,), dtype=dtype('float64'), name='walker/joints_pos')),\n",
       "             ('walker/joints_vel',\n",
       "              Array(shape=(25,), dtype=dtype('float64'), name='walker/joints_vel')),\n",
       "             ('walker/velocimeter',\n",
       "              Array(shape=(3,), dtype=dtype('float64'), name='walker/velocimeter')),\n",
       "             ('walker/world_zaxis',\n",
       "              Array(shape=(3,), dtype=dtype('float64'), name='walker/world_zaxis'))])"
      ]
     },
     "execution_count": 3,
     "metadata": {},
     "output_type": "execute_result"
    }
   ],
   "source": [
    "# Examine RL environment: observations.\n",
    "env.observation_spec()\n",
    "# len(env.observation_spec())"
   ]
  },
  {
   "cell_type": "code",
   "execution_count": 5,
   "id": "b028901f-82d7-4b8b-a6e6-205b18f9e80c",
   "metadata": {},
   "outputs": [
    {
     "data": {
      "text/plain": [
       "BoundedArray(shape=(12,), dtype=dtype('float64'), name='head_abduct\\thead_twist\\thead\\twing_yaw_left\\twing_roll_left\\twing_pitch_left\\twing_yaw_right\\twing_roll_right\\twing_pitch_right\\tabdomen_abduct\\tabdomen\\tuser_0', minimum=[-0.2  -3.   -0.5  -1.   -1.   -1.   -1.   -1.   -1.   -0.7  -1.05 -1.  ], maximum=[0.2 3.  0.3 1.  1.  1.  1.  1.  1.  0.7 0.7 1. ])"
      ]
     },
     "execution_count": 5,
     "metadata": {},
     "output_type": "execute_result"
    }
   ],
   "source": [
    "# Examine RL environment: actions.\n",
    "env.action_spec()"
   ]
  },
  {
   "cell_type": "code",
   "execution_count": null,
   "id": "01bfe404-e87e-4023-ae2e-b246fe6bef34",
   "metadata": {},
   "outputs": [],
   "source": [
    "# Reset and visualize the initial state of episode.\n",
    "timestep = env.reset()\n",
    "\n",
    "pixels = env.physics.render(camera_id=1, width=640, height=480)\n",
    "PIL.Image.fromarray(pixels)"
   ]
  },
  {
   "cell_type": "code",
   "execution_count": null,
   "id": "d99553d3-ddde-4d5e-a7b6-874aba8b3f8c",
   "metadata": {},
   "outputs": [],
   "source": [
    "# `timestep` contains the current step_type, reward, discount, observation.\n",
    "timestep"
   ]
  },
  {
   "cell_type": "markdown",
   "id": "23a39cc0-49e8-4d52-9d9b-e213133e0e79",
   "metadata": {},
   "source": [
    "# Run short episode with random actions and make video"
   ]
  },
  {
   "cell_type": "code",
   "execution_count": null,
   "id": "ca953676-da4f-401f-bfec-4524b36b8892",
   "metadata": {},
   "outputs": [],
   "source": [
    "timestep = env.reset()\n",
    "action_size = env.action_spec().shape\n",
    "\n",
    "frames = []\n",
    "for i in range(50):\n",
    "    print(timestep)\n",
    "    frames.append(env.physics.render(camera_id=1, width=640, height=480))\n",
    "    # Select random actions. However, normally this line will instead be:\n",
    "    # action = policy(timestep.observation)\n",
    "    action = np.random.uniform(-0.3, 0.3, size=action_size)\n",
    "    timestep = env.step(action)\n",
    "    \n",
    "display_video(frames)"
   ]
  },
  {
   "cell_type": "code",
   "execution_count": null,
   "id": "d7ebf850",
   "metadata": {},
   "outputs": [],
   "source": [
    "s_size = 0\n",
    "for i in env.observation_spec():\n",
    "    s_size += env.observation_spec()[i].shape[0]\n",
    "    # print(i)\n",
    "a_size = action_size[0]\n",
    "\n",
    "device = torch.device(\"cuda:0\" if torch.cuda.is_available() else \"cpu\")\n",
    "print(device)\n",
    "print(s_size)\n",
    "print(a_size)"
   ]
  },
  {
   "cell_type": "code",
   "execution_count": null,
   "id": "e216fcb3-9724-433a-bb03-371133dbf686",
   "metadata": {},
   "outputs": [],
   "source": [
    "class Policy(nn.Module):\n",
    "    def __init__(self, s_size, a_size, h_size):\n",
    "        super(Policy, self).__init__()\n",
    "        self.fc1 = nn.Linear(s_size, h_size)\n",
    "        self.fc2 = nn.Linear(h_size, h_size*2)\n",
    "        self.fc3 = nn.Linear(h_size*2, h_size*2)\n",
    "        # self.fc4 = nn.Linear(h_size*2, h_size*2)\n",
    "        self.fc_mean = nn.Linear(h_size*2, a_size)\n",
    "        self.fc_log_std = nn.Linear(h_size*2, a_size)\n",
    "\n",
    "    def forward(self, x):\n",
    "        x = F.relu(self.fc1(x))\n",
    "        x = F.relu(self.fc2(x))\n",
    "        x = F.relu(self.fc3(x))\n",
    "        # x = F.relu(self.fc4(x))\n",
    "        mean = self.fc_mean(x)\n",
    "        log_std = self.fc_log_std(x)\n",
    "        log_std = torch.clamp(log_std, min=-20, max=10)  # 对log_std进行裁剪\n",
    "        std = torch.exp(log_std)\n",
    "        return mean, std\n",
    "\n",
    "    def act(self, state):\n",
    "        state = torch.from_numpy(state).float().unsqueeze(0).to(device)\n",
    "        mean, std = self.forward(state)\n",
    "        dist = torch.distributions.Normal(mean, std)\n",
    "        action = dist.sample()\n",
    "        action_log_prob = dist.log_prob(action).sum(dim=-1)\n",
    "        return action.cpu().detach().numpy().squeeze(0), action_log_prob"
   ]
  },
  {
   "cell_type": "code",
   "execution_count": null,
   "id": "65de26b1",
   "metadata": {},
   "outputs": [],
   "source": [
    "def reinforce(policy, optimizer, n_training_episodes, max_t, gamma, print_every):\n",
    "    # Help us to calculate the score during the training\n",
    "    scores_deque = deque(maxlen=print_every)\n",
    "    scores = []\n",
    "    \n",
    "    # Line 3 of pseudocode\n",
    "    for i_episode in range(1, n_training_episodes+1):\n",
    "        timestep = env.reset()\n",
    "\n",
    "        saved_log_probs = []\n",
    "        rewards = []\n",
    "        none_loss = False\n",
    "        \n",
    "\n",
    "        # Line 4 of pseudocode\n",
    "        for t in range(max_t):\n",
    "            # data process\n",
    "            obs = timestep.observation\n",
    "            obs = np.concatenate([np.ravel(value) for value in obs.values()])\n",
    "\n",
    "            action, log_prob = policy.act(obs)\n",
    "            saved_log_probs.append(log_prob)\n",
    "\n",
    "            timestep = env.step(action)\n",
    "\n",
    "            if (timestep.reward is None):\n",
    "                none_loss = True\n",
    "                break\n",
    "            rewards.append(timestep.reward)\n",
    "            # if done:\n",
    "            #     break\n",
    "        if none_loss:\n",
    "            continue\n",
    "        scores_deque.append(sum(rewards))\n",
    "        scores.append(sum(rewards))\n",
    "\n",
    "        # Line 6 of pseudocode: calculate the return\n",
    "        returns = deque(maxlen=max_t)\n",
    "        n_steps = len(rewards)\n",
    "        \n",
    "        ## Hence, the queue \"returns\" will hold the returns in chronological order, from t=0 to t=n_steps\n",
    "        ## thanks to the appendleft() function which allows to append to the position 0 in constant time O(1)\n",
    "        ## a normal python list would instead require O(N) to do this.\n",
    "        for t in range(n_steps)[::-1]:\n",
    "            disc_return_t = (returns[0] if len(returns)>0 else 0)\n",
    "            returns.appendleft( gamma*disc_return_t + rewards[t]   )\n",
    "\n",
    "        ## standardization of the returns is employed to make training more stable\n",
    "        eps = np.finfo(np.float32).eps.item()\n",
    "        ## eps is the smallest representable float, which is\n",
    "        # added to the standard deviation of the returns to avoid numerical instabilities\n",
    "        returns = torch.tensor(returns)\n",
    "        returns = (returns - returns.mean()) / (returns.std() + eps)\n",
    "\n",
    "        # Line 7:\n",
    "        policy_loss = []\n",
    "        for log_prob, disc_return in zip(saved_log_probs, returns):\n",
    "            policy_loss.append(-log_prob * disc_return)\n",
    "        policy_loss = torch.cat(policy_loss).sum()\n",
    "\n",
    "        # Line 8: PyTorch prefers gradient descent\n",
    "        optimizer.zero_grad()\n",
    "        policy_loss.backward()\n",
    "        optimizer.step()\n",
    "\n",
    "        if i_episode % print_every == 0:\n",
    "            print('Episode {}\\tAverage Score: {:.2f}'.format(i_episode, np.mean(scores_deque)))\n",
    "            if np.mean(scores_deque) >= 150.0:\n",
    "                print('Environment solved in {:d} episodes!\\tAverage Score: {:.2f}'.format(i_episode-100, np.mean(scores_deque)))\n",
    "                break\n",
    "\n",
    "    return scores"
   ]
  },
  {
   "cell_type": "code",
   "execution_count": null,
   "id": "fd0c979c",
   "metadata": {},
   "outputs": [],
   "source": [
    "pixelcopter_hyperparameters = {\n",
    "    \"h_size\": 64,\n",
    "    \"n_training_episodes\": 2000,\n",
    "    \"n_evaluation_episodes\": 10,\n",
    "    \"max_t\": 100,\n",
    "    \"gamma\": 0.99,\n",
    "    \"lr\": 1e-4,\n",
    "    \"state_space\": s_size,\n",
    "    \"action_space\": a_size,\n",
    "}"
   ]
  },
  {
   "cell_type": "code",
   "execution_count": null,
   "id": "0f9694ac",
   "metadata": {},
   "outputs": [],
   "source": [
    "# Create policy and place it to the device\n",
    "# torch.manual_seed(50)\n",
    "pixelcopter_policy = Policy(pixelcopter_hyperparameters[\"state_space\"], pixelcopter_hyperparameters[\"action_space\"], pixelcopter_hyperparameters[\"h_size\"]).to(device)\n",
    "pixelcopter_optimizer = optim.Adam(pixelcopter_policy.parameters(), lr=pixelcopter_hyperparameters[\"lr\"])"
   ]
  },
  {
   "cell_type": "code",
   "execution_count": null,
   "id": "e6bb05c8",
   "metadata": {},
   "outputs": [],
   "source": [
    "scores = reinforce(pixelcopter_policy,\n",
    "                   pixelcopter_optimizer,\n",
    "                   pixelcopter_hyperparameters[\"n_training_episodes\"],\n",
    "                   pixelcopter_hyperparameters[\"max_t\"],\n",
    "                   pixelcopter_hyperparameters[\"gamma\"],\n",
    "                   10)"
   ]
  },
  {
   "cell_type": "code",
   "execution_count": null,
   "id": "cad10a4c",
   "metadata": {},
   "outputs": [],
   "source": [
    "timestep = env.reset()\n",
    "action_size = env.action_spec().shape\n",
    "\n",
    "frames = []\n",
    "for i in range(200):\n",
    "    # print(timestep)\n",
    "    frames.append(env.physics.render(camera_id=1, width=640, height=480))\n",
    "\n",
    "    # data process\n",
    "    obs = timestep.observation\n",
    "    obs = np.concatenate([np.ravel(value) for value in obs.values()])\n",
    "    action, _ = pixelcopter_policy.act(obs)\n",
    "    timestep = env.step(action)\n",
    "    \n",
    "\n",
    "display_video(frames)"
   ]
  }
 ],
 "metadata": {
  "kernelspec": {
   "display_name": "colearn",
   "language": "python",
   "name": "python3"
  },
  "language_info": {
   "codemirror_mode": {
    "name": "ipython",
    "version": 3
   },
   "file_extension": ".py",
   "mimetype": "text/x-python",
   "name": "python",
   "nbconvert_exporter": "python",
   "pygments_lexer": "ipython3",
   "version": "3.10.13"
  }
 },
 "nbformat": 4,
 "nbformat_minor": 5
}
